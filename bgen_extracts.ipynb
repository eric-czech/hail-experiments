{
 "cells": [
  {
   "cell_type": "markdown",
   "metadata": {},
   "source": [
    "## Hail Bgen Extracts"
   ]
  },
  {
   "cell_type": "code",
   "execution_count": 1,
   "metadata": {},
   "outputs": [
    {
     "name": "stderr",
     "output_type": "stream",
     "text": [
      "Running on Apache Spark version 2.4.1\n",
      "SparkUI available at http://6fb6b6adfa3a:4040\n",
      "Welcome to\n",
      "     __  __     <>__\n",
      "    / /_/ /__  __/ /\n",
      "   / __  / _ `/ / /\n",
      "  /_/ /_/\\_,_/_/_/   version 0.2.44-6cfa355a1954\n",
      "LOGGING: writing to /work/repos/docker-hail/hail-20200608-2230-0.2.44-6cfa355a1954.log\n"
     ]
    }
   ],
   "source": [
    "import hail as hl\n",
    "from pathlib import Path\n",
    "hl.init()"
   ]
  },
  {
   "cell_type": "code",
   "execution_count": 2,
   "metadata": {},
   "outputs": [],
   "source": [
    "export_dir = Path('/work/data/hail-datasets/exports')"
   ]
  },
  {
   "cell_type": "markdown",
   "metadata": {},
   "source": [
    "### Balding-Nichols"
   ]
  },
  {
   "cell_type": "code",
   "execution_count": 13,
   "metadata": {},
   "outputs": [
    {
     "name": "stdout",
     "output_type": "stream",
     "text": [
      "----------------------------------------\n",
      "Global fields:\n",
      "    'bn': struct {\n",
      "        n_populations: int32, \n",
      "        n_samples: int32, \n",
      "        n_variants: int32, \n",
      "        n_partitions: int32, \n",
      "        pop_dist: array<int32>, \n",
      "        fst: array<float64>, \n",
      "        mixture: bool\n",
      "    }\n",
      "----------------------------------------\n",
      "Column fields:\n",
      "    'sample_idx': int32\n",
      "    'pop': int32\n",
      "    's': str\n",
      "----------------------------------------\n",
      "Row fields:\n",
      "    'locus': locus<GRCh37>\n",
      "    'alleles': array<str>\n",
      "    'ancestral_af': float64\n",
      "    'af': array<float64>\n",
      "----------------------------------------\n",
      "Entry fields:\n",
      "    'GT': call\n",
      "----------------------------------------\n",
      "Column key: ['s']\n",
      "Row key: ['locus', 'alleles']\n",
      "----------------------------------------\n"
     ]
    },
    {
     "name": "stderr",
     "output_type": "stream",
     "text": [
      "2020-06-08 23:04:37 Hail: INFO: balding_nichols_model: generating genotypes for 1 populations, 1000 samples, and 100000 variants...\n"
     ]
    }
   ],
   "source": [
    "mt = hl.balding_nichols_model(n_populations=1, n_variants=100_000, n_samples=1_000)\n",
    "# Col key must be string\n",
    "mt = mt.annotate_cols(s=hl.str(mt.sample_idx)).key_cols_by('s')\n",
    "mt.describe()"
   ]
  },
  {
   "cell_type": "code",
   "execution_count": 14,
   "metadata": {},
   "outputs": [
    {
     "name": "stderr",
     "output_type": "stream",
     "text": [
      "2020-06-08 23:04:42 Hail: INFO: Coerced sorted dataset\n",
      "2020-06-08 23:04:44 Hail: INFO: while writing:\n",
      "    /work/data/hail-datasets/exports/balding-nichols-1pop-100kvariants-1ksamples.bgen\n",
      "  merge time: 25.254ms\n"
     ]
    },
    {
     "data": {
      "text/plain": [
       "'/work/data/hail-datasets/exports/balding-nichols-1pop-100kvariants-1ksamples'"
      ]
     },
     "execution_count": 14,
     "metadata": {},
     "output_type": "execute_result"
    }
   ],
   "source": [
    "path = str(export_dir / 'balding-nichols-1pop-100kvariants-1ksamples')\n",
    "hl.export_bgen(mt, path)\n",
    "path"
   ]
  },
  {
   "cell_type": "markdown",
   "metadata": {},
   "source": [
    "### HapMap"
   ]
  },
  {
   "cell_type": "code",
   "execution_count": 3,
   "metadata": {},
   "outputs": [
    {
     "name": "stdout",
     "output_type": "stream",
     "text": [
      "----------------------------------------\n",
      "Global fields:\n",
      "    None\n",
      "----------------------------------------\n",
      "Column fields:\n",
      "    's': str\n",
      "    'fam_id': str\n",
      "    'pat_id': str\n",
      "    'mat_id': str\n",
      "    'is_female': bool\n",
      "    'is_case': bool\n",
      "----------------------------------------\n",
      "Row fields:\n",
      "    'locus': locus<hapmap3_hg18>\n",
      "    'alleles': array<str>\n",
      "    'rsid': str\n",
      "    'cm_position': float64\n",
      "----------------------------------------\n",
      "Entry fields:\n",
      "    'GT': call\n",
      "----------------------------------------\n",
      "Column key: ['s']\n",
      "Row key: ['locus', 'alleles']\n",
      "----------------------------------------\n"
     ]
    }
   ],
   "source": [
    "mt = hl.read_matrix_table('/work/data/tutorial/1_QC_GWAS/HapMap_3_r3_1.mt')\n",
    "mt.describe()"
   ]
  },
  {
   "cell_type": "code",
   "execution_count": 4,
   "metadata": {},
   "outputs": [
    {
     "name": "stderr",
     "output_type": "stream",
     "text": [
      "2020-06-08 22:32:56 Hail: INFO: while writing:\n",
      "    /work/data/hail-datasets/exports/HapMap.phase_3.bgen\n",
      "  merge time: 209.473ms\n"
     ]
    },
    {
     "data": {
      "text/plain": [
       "'/work/data/hail-datasets/exports/HapMap.phase_3'"
      ]
     },
     "execution_count": 4,
     "metadata": {},
     "output_type": "execute_result"
    }
   ],
   "source": [
    "path = str(export_dir / 'HapMap.phase_3')\n",
    "hl.export_bgen(mt, path)\n",
    "path"
   ]
  },
  {
   "cell_type": "markdown",
   "metadata": {},
   "source": [
    "### 1KG chrX\n",
    "\n",
    "From: gs://hail-datasets-hail-data/1000_Genomes_chrX.phase_3.GRCh38.mt"
   ]
  },
  {
   "cell_type": "code",
   "execution_count": 5,
   "metadata": {},
   "outputs": [
    {
     "name": "stdout",
     "output_type": "stream",
     "text": [
      "----------------------------------------\n",
      "Global fields:\n",
      "    'metadata': struct {\n",
      "        name: str, \n",
      "        version: str, \n",
      "        reference_genome: str, \n",
      "        n_rows: int32, \n",
      "        n_cols: int32, \n",
      "        n_partitions: int32\n",
      "    }\n",
      "----------------------------------------\n",
      "Column fields:\n",
      "    's': str\n",
      "    'population': str\n",
      "    'super_population': str\n",
      "    'is_female': bool\n",
      "    'family_id': str\n",
      "    'relationship_role': str\n",
      "    'maternal_id': str\n",
      "    'paternal_id': str\n",
      "    'children_ids': array<str>\n",
      "    'sibling_ids': array<str>\n",
      "    'second_order_relationship_ids': array<str>\n",
      "    'third_order_relationship_ids': array<str>\n",
      "    'sample_qc': struct {\n",
      "        call_rate: float64, \n",
      "        n_called: int64, \n",
      "        n_not_called: int64, \n",
      "        n_hom_ref: int64, \n",
      "        n_het: int64, \n",
      "        n_hom_var: int64, \n",
      "        n_non_ref: int64, \n",
      "        n_singleton: int64, \n",
      "        n_snp: int64, \n",
      "        n_insertion: int64, \n",
      "        n_deletion: int64, \n",
      "        n_transition: int64, \n",
      "        n_transversion: int64, \n",
      "        n_star: int64, \n",
      "        r_ti_tv: float64, \n",
      "        r_het_hom_var: float64, \n",
      "        r_insertion_deletion: float64\n",
      "    }\n",
      "----------------------------------------\n",
      "Row fields:\n",
      "    'locus': locus<GRCh38>\n",
      "    'alleles': array<str>\n",
      "    'rsid': str\n",
      "    'qual': float64\n",
      "    'filters': set<str>\n",
      "    'info': struct {\n",
      "        CIEND: int32, \n",
      "        CIPOS: int32, \n",
      "        CS: str, \n",
      "        END: int32, \n",
      "        IMPRECISE: bool, \n",
      "        MC: array<str>, \n",
      "        MEINFO: array<str>, \n",
      "        MEND: int32, \n",
      "        MLEN: int32, \n",
      "        MSTART: int32, \n",
      "        SVLEN: array<int32>, \n",
      "        SVTYPE: str, \n",
      "        TSD: str, \n",
      "        AC: int32, \n",
      "        AF: float64, \n",
      "        NS: int32, \n",
      "        AN: int32, \n",
      "        EAS_AF: float64, \n",
      "        EUR_AF: float64, \n",
      "        AFR_AF: float64, \n",
      "        AMR_AF: float64, \n",
      "        SAS_AF: float64, \n",
      "        DP: int32, \n",
      "        AA: str, \n",
      "        VT: str, \n",
      "        EX_TARGET: bool, \n",
      "        MULTI_ALLELIC: bool, \n",
      "        STRAND_FLIP: bool, \n",
      "        REF_SWITCH: bool, \n",
      "        DEPRECATED_RSID: array<str>, \n",
      "        RSID_REMOVED: array<str>, \n",
      "        GRCH37_38_REF_STRING_MATCH: bool, \n",
      "        NOT_ALL_RSIDS_STRAND_CHANGE_OR_REF_SWITCH: bool, \n",
      "        GRCH37_POS: int32, \n",
      "        GRCH37_REF: str, \n",
      "        ALLELE_TRANSFORM: bool, \n",
      "        REF_NEW_ALLELE: bool, \n",
      "        CHROM_CHANGE_BETWEEN_ASSEMBLIES: str\n",
      "    }\n",
      "    'a_index': int32\n",
      "    'was_split': bool\n",
      "    'old_locus': locus<GRCh38>\n",
      "    'old_alleles': array<str>\n",
      "    'variant_qc': struct {\n",
      "        AC: array<int32>, \n",
      "        AF: array<float64>, \n",
      "        AN: int32, \n",
      "        homozygote_count: array<int32>, \n",
      "        n_called: int64, \n",
      "        n_not_called: int64, \n",
      "        call_rate: float32, \n",
      "        n_het: int64, \n",
      "        n_non_ref: int64, \n",
      "        het_freq_hwe: float64, \n",
      "        p_value_hwe: float64\n",
      "    }\n",
      "----------------------------------------\n",
      "Entry fields:\n",
      "    'GT': call\n",
      "----------------------------------------\n",
      "Column key: ['s']\n",
      "Row key: ['locus', 'alleles']\n",
      "----------------------------------------\n"
     ]
    }
   ],
   "source": [
    "mt = hl.read_matrix_table('/work/data/hail-datasets/1000_Genomes_chrX.phase_3.GRCh38.mt')\n",
    "mt.describe()"
   ]
  },
  {
   "cell_type": "code",
   "execution_count": 6,
   "metadata": {},
   "outputs": [
    {
     "name": "stderr",
     "output_type": "stream",
     "text": [
      "2020-06-08 22:33:24 Hail: INFO: while writing:\n",
      "    /work/data/hail-datasets/exports/1000_Genomes_chrX.phase_3.GRCh38.bgen\n",
      "  merge time: 262.117ms\n"
     ]
    },
    {
     "data": {
      "text/plain": [
       "'/work/data/hail-datasets/exports/1000_Genomes_chrX.phase_3.GRCh38'"
      ]
     },
     "execution_count": 6,
     "metadata": {},
     "output_type": "execute_result"
    }
   ],
   "source": [
    "path = str(export_dir / '1000_Genomes_chrX.phase_3.GRCh38')\n",
    "hl.export_bgen(mt, path)\n",
    "path"
   ]
  }
 ],
 "metadata": {
  "kernelspec": {
   "display_name": "Python 3",
   "language": "python",
   "name": "python3"
  },
  "language_info": {
   "codemirror_mode": {
    "name": "ipython",
    "version": 3
   },
   "file_extension": ".py",
   "mimetype": "text/x-python",
   "name": "python",
   "nbconvert_exporter": "python",
   "pygments_lexer": "ipython3",
   "version": "3.6.9"
  }
 },
 "nbformat": 4,
 "nbformat_minor": 4
}
